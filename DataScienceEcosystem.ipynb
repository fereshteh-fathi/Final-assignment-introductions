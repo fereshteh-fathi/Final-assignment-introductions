{
 "cells": [
  {
   "cell_type": "markdown",
   "id": "435a72a7",
   "metadata": {},
   "source": [
    "# Dta Science Tools and Ecosystem"
   ]
  },
  {
   "cell_type": "markdown",
   "id": "6d4b7baf",
   "metadata": {},
   "source": [
    "### ___In this notebook, Data Science Tools and Ecosystem are summarized.___"
   ]
  },
  {
   "cell_type": "markdown",
   "id": "6b551cf2",
   "metadata": {},
   "source": [
    "__Objectives:__"
   ]
  },
  {
   "cell_type": "markdown",
   "id": "36e482a2",
   "metadata": {},
   "source": [
    "+  list data science languages\n",
    "+ list data science libraries\n",
    "+ Data Science tools\n",
    "+ multiply and add numbers"
   ]
  },
  {
   "cell_type": "markdown",
   "id": "2eb40890",
   "metadata": {},
   "source": [
    "_Some of the popular languages that Data Scientists use are:_"
   ]
  },
  {
   "cell_type": "markdown",
   "id": "4178f52b",
   "metadata": {},
   "source": [
    "    1. Python\n",
    "    2. R\n",
    "    3. SQL"
   ]
  },
  {
   "cell_type": "markdown",
   "id": "f7ef3538",
   "metadata": {},
   "source": [
    "_Some of the commonly used libraries used by Data Scientists include:_"
   ]
  },
  {
   "cell_type": "markdown",
   "id": "25d014db",
   "metadata": {},
   "source": [
    "1. Pandas\n",
    "2. Numpy\n",
    "3. Matplotlib\n",
    "4. scikit-learn\n",
    "5. ggplot"
   ]
  },
  {
   "cell_type": "markdown",
   "id": "e1c7ceec",
   "metadata": {},
   "source": [
    "Data Science Tools         |\n",
    "---------------------------|\n",
    "Rstuio\n",
    "---------------------------|\n",
    "Jupyter Notebook\n",
    "---------------------------|\n",
    "Apache spark"
   ]
  },
  {
   "cell_type": "markdown",
   "id": "d243d475",
   "metadata": {},
   "source": [
    "### ___Below are a few examples of evaluating arithmetic expressions in Python:___"
   ]
  },
  {
   "cell_type": "code",
   "execution_count": 4,
   "id": "e5decca2",
   "metadata": {},
   "outputs": [
    {
     "data": {
      "text/plain": [
       "17"
      ]
     },
     "execution_count": 4,
     "metadata": {},
     "output_type": "execute_result"
    }
   ],
   "source": [
    "# This a simple arithmetic expression to mutiply then add integers.\n",
    "(3*4)+5"
   ]
  },
  {
   "cell_type": "code",
   "execution_count": 5,
   "id": "406a082b",
   "metadata": {},
   "outputs": [
    {
     "data": {
      "text/plain": [
       "3.3333333333333335"
      ]
     },
     "execution_count": 5,
     "metadata": {},
     "output_type": "execute_result"
    }
   ],
   "source": [
    "#This will convert 200 minutes to hours by diving by 60.\n",
    "200/60"
   ]
  },
  {
   "cell_type": "markdown",
   "id": "0f5ee285",
   "metadata": {},
   "source": [
    "## Author:\n",
    "   ___Fereshteh Fathi___"
   ]
  },
  {
   "cell_type": "code",
   "execution_count": null,
   "id": "1d184d85",
   "metadata": {},
   "outputs": [],
   "source": []
  }
 ],
 "metadata": {
  "kernelspec": {
   "display_name": "Python 3 (ipykernel)",
   "language": "python",
   "name": "python3"
  },
  "language_info": {
   "codemirror_mode": {
    "name": "ipython",
    "version": 3
   },
   "file_extension": ".py",
   "mimetype": "text/x-python",
   "name": "python",
   "nbconvert_exporter": "python",
   "pygments_lexer": "ipython3",
   "version": "3.11.4"
  }
 },
 "nbformat": 4,
 "nbformat_minor": 5
}
